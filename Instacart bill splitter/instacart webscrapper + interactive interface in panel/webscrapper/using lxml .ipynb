{
 "cells": [
  {
   "cell_type": "code",
   "execution_count": null,
   "id": "9404de9c-8e6b-4ee2-889e-205627cac689",
   "metadata": {},
   "outputs": [],
   "source": [
    "from lxml import html\n",
    "import requests #For making HTTP requests to URLS.\n",
    "import pandas as pd\n",
    "from IPython.display import display, Image\n",
    "import re"
   ]
  },
  {
   "attachments": {},
   "cell_type": "markdown",
   "id": "2a514940-f267-47a9-bf41-d6a4dde80f19",
   "metadata": {},
   "source": [
    "Full Function"
   ]
  },
  {
   "cell_type": "code",
   "execution_count": 28,
   "id": "895ac6e0-bffd-42af-9ddd-3ad4dfe2dcca",
   "metadata": {},
   "outputs": [],
   "source": [
    "# Function to parse the html receipt and return a dataframe with the receipt information\n",
    "def parse_html_receipt(html_path):\n",
    "    # Read the local HTML file\n",
    "    with open(html_path, 'r', encoding='utf-8') as file:\n",
    "        file_content = file.read()\n",
    "\n",
    "    # Parse the HTML content using lxml\n",
    "    parsed_html_receipt = html.fromstring(file_content)\n",
    "\n",
    "    # Extract all class attributes from the HTML elements\n",
    "    class_attributes = parsed_html_receipt.xpath('//@class')\n",
    "\n",
    "    # obtain unique kinds of delivered items\n",
    "    delivered_item_tags = []\n",
    "    for cls in class_attributes:\n",
    "        if 'item-row item-delivered' in cls:\n",
    "            if cls not in delivered_item_tags:\n",
    "                delivered_item_tags.append(cls)\n",
    "\n",
    "    # Create a dictionary to store the information of the delivered items        \n",
    "    items_dict = {'item-name':[],  'item-price':[], 'item-image':[]}\n",
    "    for delivered_item_tag in delivered_item_tags:\n",
    "        div_element = parsed_html_receipt.xpath(f'.//div[@class=\"{delivered_item_tag}\"]')\n",
    "        # Obtain all subelements inside the div element\n",
    "        for item_div in div_element:\n",
    "            # print(html.tostring(item_div, encoding='unicode'))\n",
    "            for class_name in items_dict.keys():\n",
    "                if class_name == 'item-name': #obtain item name\n",
    "                    item_name =  item_div.xpath(f'.//div[@class=\"{class_name}\"]')\n",
    "                    cleaned_text = [div.text_content().replace('\\n', '') for div in item_name ]\n",
    "                    items_dict[class_name].append(cleaned_text[0])\n",
    "                if class_name == 'item-price': #obtain item price\n",
    "                    div_elements = item_div.xpath(f'.//div[@class=\"{class_name}\"]')\n",
    "                    cleaned_prices = [div.text_content().replace('\\n', '') for div in div_elements]\n",
    "                    # print(cleaned_prices)\n",
    "                    items_dict[class_name].append(float(re.search(r'Final item price:\\$(\\d+\\.\\d+)', cleaned_prices[0]).group(1)))\n",
    "                if class_name == 'item-image': #obtain the image of the item  \n",
    "                    div_elements = item_div.xpath('.//div[@class=\"item-image\"]/img/@src')\n",
    "                    items_dict[class_name].append(div_elements[0])\n",
    "            \n",
    "    delivered_items_df = pd.DataFrame(items_dict) #DataFrame with the delivered items\n",
    "\n",
    "    # Obtain the total price of the order and miscellaneous charges\n",
    "    misc_charges = {'charge-type':[], 'amount':[]}\n",
    "    charge_type = parsed_html_receipt.xpath('//tr/td[@class=\"charge-type\"]/text()') #extract the charges\n",
    "    amount_type = parsed_html_receipt.xpath('//tr/td[@class=\"amount\"]/text()') #extract the cost for each charge\n",
    "    misc_charges['charge-type'] = [c for c in charge_type if c!='Instacart+ Member Free Delivery!'] #remove the free delivery charge\n",
    "    print(charge_type)\n",
    "    print(misc_charges['charge-type'])\n",
    "    misc_charges['amount'] = [float(i.replace('$', '')) for i in amount_type]\n",
    "    misc_charges_df = pd.DataFrame(misc_charges) #DataFrame with the miscellaneous charges\n",
    "\n",
    "    #obtain the text conntent of this element\n",
    "    delivery_details = parsed_html_receipt.xpath('//div[@class=\"DriverDeliverySchedule\"]/text()') #extract the charges\n",
    "    print(delivery_details[0].replace('\\n', ''))\n",
    "    return delivered_items_df, misc_charges_df"
   ]
  },
  {
   "cell_type": "code",
   "execution_count": 29,
   "id": "00ffd0bd-678f-40cf-a4a9-0b597fde62c4",
   "metadata": {},
   "outputs": [
    {
     "name": "stdout",
     "output_type": "stream",
     "text": [
      "['Items Subtotal', 'Checkout Bag Fee', 'Sales Tax', 'Tip', 'Service Fee', 'Total', 'Instacart+ Member Free Delivery!', 'Original Charge', 'Total Charged']\n",
      "['Items Subtotal', 'Checkout Bag Fee', 'Sales Tax', 'Tip', 'Service Fee', 'Total', 'Original Charge', 'Total Charged']\n",
      "Your order from ALDI was placed on February 15th, 2023 and delivered on February 15th, 2023 at 4:26 PM\n"
     ]
    }
   ],
   "source": [
    "html_path = 'test2.html'\n",
    "delivered_items_df, misc_charges_df = parse_html_receipt(html_path)\n"
   ]
  },
  {
   "cell_type": "code",
   "execution_count": 17,
   "id": "4c2a9a2c",
   "metadata": {},
   "outputs": [
    {
     "data": {
      "text/plain": [
       "charge-type    Items Subtotal\n",
       "amount                  73.22\n",
       "Name: 0, dtype: object"
      ]
     },
     "execution_count": 17,
     "metadata": {},
     "output_type": "execute_result"
    }
   ],
   "source": [
    "misc_charges_df.iloc[0]"
   ]
  },
  {
   "cell_type": "code",
   "execution_count": null,
   "id": "c1ab2097-f6a5-4bfc-91ed-3558c4195419",
   "metadata": {
    "scrolled": true
   },
   "outputs": [],
   "source": [
    "# Read the local HTML file\n",
    "html_path = 'test2.html'\n",
    "\n",
    "# Read the local HTML file\n",
    "with open(html_path, 'r', encoding='utf-8') as file:\n",
    "    file_content = file.read()\n",
    "\n",
    "# Parse the HTML content using lxml\n",
    "parsed_html_from_html = html.fromstring(file_content)\n",
    "\n",
    "# Find all table elements\n",
    "tables = parsed_html_from_html.xpath('//table')\n",
    "print(len(tables))\n",
    "\n",
    "for idx, table in enumerate(tables):\n",
    "    # print(f\"Attributes for table {idx + 1}:\")\n",
    "    class_name = table.attrib['class']\n",
    "    print(f'class for table {idx}: {class_name}')\n",
    "\n"
   ]
  },
  {
   "cell_type": "code",
   "execution_count": null,
   "id": "0e6e87c8-b743-49f0-86d4-da3c68b4e07b",
   "metadata": {},
   "outputs": [],
   "source": [
    "# Extract all class attributes from the HTML elements\n",
    "class_attributes = parsed_html_from_html.xpath('//@class')\n",
    "\n",
    "# Split and flatten the classes into a list\n",
    "all_classes = [c.strip() for classes in class_attributes for c in classes.split()]\n",
    "\n",
    "# Get unique classes by converting the list to a set\n",
    "unique_classes = set(all_classes)\n",
    "\n",
    "# Print the unique classes\n",
    "delivered_item_tags = []\n",
    "for cls in class_attributes:\n",
    "    if 'item-row item-delivered' in cls:\n",
    "        if cls not in delivered_item_tags:\n",
    "            delivered_item_tags.append(cls)\n",
    "print(delivered_item_tags)"
   ]
  },
  {
   "attachments": {},
   "cell_type": "markdown",
   "id": "59c1607d-8c1d-431f-9360-a2bd7938986c",
   "metadata": {},
   "source": [
    "delivered_items, Replacements, Refunds and adjustments"
   ]
  },
  {
   "cell_type": "code",
   "execution_count": null,
   "id": "66f9324c-74f7-47e4-9ca1-179363143e38",
   "metadata": {
    "collapsed": true,
    "jupyter": {
     "outputs_hidden": true
    },
    "scrolled": true
   },
   "outputs": [],
   "source": [
    "#### REPLACEMENTS\n",
    "# adjustments_table = tables[1]\n",
    "items_dict = {'item-name':[],  'item-price':[], 'item-image':[]}\n",
    "for delivered_item_tag in delivered_item_tags:\n",
    "    div_element = parsed_html_from_html.xpath(f'.//div[@class=\"{delivered_item_tag}\"]')\n",
    "    # Obtain all subelements inside the div element\n",
    "    for item_div in div_element:\n",
    "        # print(html.tostring(item_div, encoding='unicode'))\n",
    "        for class_name in items_dict.keys():\n",
    "            if class_name == 'item-name': #obtain item name\n",
    "                item_name =  item_div.xpath(f'.//div[@class=\"{class_name}\"]')\n",
    "                cleaned_text = [div.text_content().replace('\\n', '') for div in item_name ]\n",
    "                items_dict[class_name].append(cleaned_text[0])\n",
    "            if class_name == 'item-price':\n",
    "                div_elements = item_div.xpath(f'.//div[@class=\"{class_name}\"]')\n",
    "                cleaned_prices = [div.text_content().replace('\\n', '') for div in div_elements]\n",
    "                # print(cleaned_prices)\n",
    "                items_dict[class_name].append(float(re.search(r'Final item price:\\$(\\d+\\.\\d+)', cleaned_prices[0]).group(1)))\n",
    "            if class_name == 'item-image':        \n",
    "                div_elements = item_div.xpath('.//div[@class=\"item-image\"]/img/@src')\n",
    "                items_dict[class_name].append(div_elements[0])\n",
    "        \n",
    "delivered_items_df = pd.DataFrame(items_dict)\n",
    "for _, row in replaced_items_df.iterrows():\n",
    "    display(Image(row['item-image']))\n",
    "    display(row[['item-name', 'item-price']])\n",
    "    print('\\n')\n",
    "\n",
    "\n"
   ]
  },
  {
   "attachments": {},
   "cell_type": "markdown",
   "id": "45adcbb3-4814-4517-ab1d-390ce454ae04",
   "metadata": {},
   "source": [
    "Obtaing the sub-total, extra charges and the total charge."
   ]
  },
  {
   "cell_type": "code",
   "execution_count": null,
   "id": "175778c1-7bba-47a2-b385-0fb06de212e1",
   "metadata": {},
   "outputs": [],
   "source": [
    "sub_total_table = parsed_html_from_html\n",
    "charge_type = sub_total_table.xpath('//tr/td[@class=\"charge-type\"]/text()') #extract the charges\n",
    "amount_type = sub_total_table.xpath('//tr/td[@class=\"amount\"]/text()') #extract the cost for each charge\n",
    "charges = [(charge_type[i], float(amount_type[i].replace('$', ''))) for i in range(len(amount_type))]\n",
    "print(charges)    "
   ]
  },
  {
   "cell_type": "code",
   "execution_count": null,
   "id": "74e5cec5-ca90-4696-a1f3-d6eae883cd1e",
   "metadata": {},
   "outputs": [],
   "source": []
  },
  {
   "cell_type": "code",
   "execution_count": null,
   "id": "7b417354-07b3-4370-9403-dc0f03bafb0e",
   "metadata": {},
   "outputs": [],
   "source": [
    "\n",
    "# Code to obtain unchanged delivered objects.\n",
    "\n",
    "# delivered_items = tables[2]\n",
    "\n",
    "# items_dict = {'item-name':[],  'item-price':[], 'item-image':[]}\n",
    "\n",
    "# for class_name in items_dict.keys():   \n",
    "#     if class_name == 'item-name': #obtain item name\n",
    "#         div_elements = delivered_items.xpath(f'.//div[@class=\"{class_name}\"]')\n",
    "#         cleaned_text = [div.text_content().replace('\\n', '') for div in div_elements]\n",
    "#         items_dict[class_name] = [text.strip() for text in cleaned_text]\n",
    "    \n",
    "#     if class_name == 'item-price':\n",
    "#         div_elements = delivered_items.xpath(f'.//div[@class=\"{class_name}\"]')\n",
    "#         cleaned_prices = [div.text_content().replace('\\n', '') for div in div_elements]\n",
    "#         items_dict[class_name] = [float(price.split('$')[1]) for price in cleaned_prices]\n",
    "    \n",
    "#     if class_name == 'item-image':        \n",
    "#         div_elements = delivered_items.xpath('.//div[@class=\"item-image\"]/img/@src')\n",
    "#         items_dict[class_name] = div_elements\n",
    "\n",
    "# delivered_items_df = pd.DataFrame(items_dict) #DataFrame of items with names, images and prices.\n",
    "# for _, row in delivered_items_df.iterrows():\n",
    "#     display(Image(row['item-image']))\n",
    "#     display(row[['item-name', 'item-price']])\n",
    "#     print('\\n')"
   ]
  }
 ],
 "metadata": {
  "kernelspec": {
   "display_name": "Python 3 (ipykernel)",
   "language": "python",
   "name": "python3"
  },
  "language_info": {
   "codemirror_mode": {
    "name": "ipython",
    "version": 3
   },
   "file_extension": ".py",
   "mimetype": "text/x-python",
   "name": "python",
   "nbconvert_exporter": "python",
   "pygments_lexer": "ipython3",
   "version": "3.11.3"
  }
 },
 "nbformat": 4,
 "nbformat_minor": 5
}
