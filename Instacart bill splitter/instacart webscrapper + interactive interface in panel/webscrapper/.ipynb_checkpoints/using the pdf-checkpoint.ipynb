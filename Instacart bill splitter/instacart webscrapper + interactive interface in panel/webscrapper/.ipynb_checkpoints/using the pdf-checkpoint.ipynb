{
 "cells": [
  {
   "cell_type": "code",
   "execution_count": 63,
   "id": "c0a683e8-ef06-46e1-94e6-c789c23d8335",
   "metadata": {},
   "outputs": [],
   "source": [
    "import pdfplumber\n",
    "import re\n",
    "import pandas as pd"
   ]
  },
  {
   "cell_type": "code",
   "execution_count": 27,
   "id": "cd1f63e1-1ae2-42c0-ad08-1a4b3dcfd0db",
   "metadata": {
    "tags": []
   },
   "outputs": [
    {
     "name": "stdout",
     "output_type": "stream",
     "text": [
      "[['', ''], [None, ''], ['Olivia delivered your order\\nYour order from ALDI was placed on February 2nd, 2023 and delivered on February 2nd,\\n2023 at 6:50 PM\\nItems Found Adjustment\\n14 1\\nA D J U S T M E N T S ( A L D I ) 1\\nN O T C H A R G E D\\nFriendly Farms Nonfat Black Cherry on the Bottom Greek Yogurt\\n$0.00\\n(5.3 oz)\\nRefunded 5\\nI T E M S F O U N D ( A L D I )\\n1 4\\nC A N N E D G O O D S\\nSimply Nature Organic Low Sodium Chicken Broth\\n(32 oz)\\n$2.09\\n1 x $2.09\\nDeutsche Küche Hearty Pea Soup\\n(28 oz)\\n$3.09\\n1 x $3.09\\nSimply Nature Organic Vegetable Broth\\n(32 oz)\\n$2.09\\n1 x $2.09\\nD A I R Y & E G G S\\nFriendly Farms Nonfat Blueberry on the Bottom Greek Yogurt\\n(5.3\\n$3.25\\noz)\\n5 x $0.65\\nFriendly Farms Whole Milk\\n(0.5 gal)\\n$1.95\\n1 x $1.95\\nFriendly Farms Whole Milk\\n(1 gal)\\n$3.25\\n1 x $3.25\\nM E AT & S E A F O O D\\nKirkwood Fresh Boneless Skinless Chicken Thighs\\n(~ 1.82 lb)\\n$5.86\\n1.78 lb x $3.29\\nP R O D U C E\\nAvocado\\n(each)\\n$2.20\\n4 x $0.55\\nRoma Tomato Package\\n(1 lb)\\n$5.16\\n4 x $1.29\\nStrawberries, Package\\n(1 lb)\\n$3.29\\n1 x $3.29\\nBananas\\n(~ 0.42 lb)\\n$1.61\\n3.09 lb x $0.52\\nCilantro\\n(1 ct)\\n$1.70\\n2 x $0.85\\nYellow Potato Bag\\n(each)\\n$4.39\\n1 x $4.39\\nRed Onion Bag\\n(2 lb bag)\\n$2.99\\n1 x $2.99\\nORDER TOTALS\\nItems Subtotal $42.92\\nCheckout Bag Fee $0.24\\nTip $3.66\\nService Fee $3.08\\nTotal $49.90\\nInstacart+ Member Free Delivery!\\nCHARGES Discover ending in 4694\\nOriginal Charge $49.90\\nYour Discover 4694 card was temporarily authorized for $50.00. You should\\nsee the hold removed and a final charge reflected on your statement within 7\\nbusiness days of order completion depending on your bank’s policies.\\nLearn more\\nTotal Charged $49.90\\nRate your order\\nGet help', None], [None, ''], [None, '']]\n",
      "****************************************************************************************************\n",
      "[['N O T C H A R G E D'], ['Friendly Farms Nonfat Black Cherry on the Bottom Greek Yogurt\\n$0.00\\n(5.3 oz)\\nRefunded 5'], ['']]\n",
      "****************************************************************************************************\n",
      "[['C A N N E D G O O D S'], ['Simply Nature Organic Low Sodium Chicken Broth\\n(32 oz)\\n$2.09\\n1 x $2.09'], ['Deutsche Küche Hearty Pea Soup\\n(28 oz)\\n$3.09\\n1 x $3.09'], ['Simply Nature Organic Vegetable Broth\\n(32 oz)\\n$2.09\\n1 x $2.09'], ['D A I R Y & E G G S'], ['Friendly Farms Nonfat Blueberry on the Bottom Greek Yogurt\\n(5.3\\n$3.25\\noz)\\n5 x $0.65'], ['Friendly Farms Whole Milk\\n(0.5 gal)\\n$1.95\\n1 x $1.95'], ['Friendly Farms Whole Milk\\n(1 gal)\\n$3.25\\n1 x $3.25'], ['M E AT & S E A F O O D'], ['Kirkwood Fresh Boneless Skinless Chicken Thighs\\n(~ 1.82 lb)\\n$5.86\\n1.78 lb x $3.29'], ['P R O D U C E'], ['Avocado\\n(each)\\n$2.20\\n4 x $0.55'], ['Roma Tomato Package\\n(1 lb)\\n$5.16\\n4 x $1.29'], ['Strawberries, Package\\n(1 lb)\\n$3.29\\n1 x $3.29'], ['Bananas\\n(~ 0.42 lb)\\n$1.61\\n3.09 lb x $0.52'], ['Cilantro\\n(1 ct)\\n$1.70\\n2 x $0.85'], ['Yellow Potato Bag\\n(each)\\n$4.39\\n1 x $4.39'], ['Red Onion Bag\\n(2 lb bag)\\n$2.99\\n1 x $2.99'], ['']]\n",
      "****************************************************************************************************\n"
     ]
    }
   ],
   "source": [
    "with pdfplumber.open('receipt.pdf') as pdf:\n",
    "    # iterate over each page\n",
    "    page = pdf.pages[0]\n",
    "    tables = page.extract_tables()\n",
    "    for table in tables:\n",
    "        print(table)\n",
    "        print('*'*100)\n"
   ]
  },
  {
   "cell_type": "code",
   "execution_count": 95,
   "id": "d73e60a6-3422-4e47-8922-25f171183eff",
   "metadata": {},
   "outputs": [
    {
     "name": "stdout",
     "output_type": "stream",
     "text": [
      "{'item_cost': '$2.09', 'item_cost_description': '1 x $2.09', 'item_name': 'Simply Nature Organic Vegetable Broth', 'item_quantity': '32 oz'}\n"
     ]
    },
    {
     "ename": "ValueError",
     "evalue": "If using all scalar values, you must pass an index",
     "output_type": "error",
     "traceback": [
      "\u001b[1;31m---------------------------------------------------------------------------\u001b[0m",
      "\u001b[1;31mValueError\u001b[0m                                Traceback (most recent call last)",
      "Cell \u001b[1;32mIn[95], line 33\u001b[0m\n\u001b[0;32m     31\u001b[0m             new_item[key] \u001b[38;5;241m=\u001b[39m \u001b[38;5;124m'\u001b[39m\u001b[38;5;124m'\u001b[39m\n\u001b[0;32m     32\u001b[0m \u001b[38;5;28mprint\u001b[39m(new_item)\n\u001b[1;32m---> 33\u001b[0m Items \u001b[38;5;241m=\u001b[39m pd\u001b[38;5;241m.\u001b[39mconcat([Items, \u001b[43mpd\u001b[49m\u001b[38;5;241;43m.\u001b[39;49m\u001b[43mDataFrame\u001b[49m\u001b[43m(\u001b[49m\u001b[43mnew_item\u001b[49m\u001b[43m)\u001b[49m])\n\u001b[0;32m     34\u001b[0m Items\u001b[38;5;241m.\u001b[39mto_csv(\u001b[38;5;124m'\u001b[39m\u001b[38;5;124mItems.txt\u001b[39m\u001b[38;5;124m'\u001b[39m, sep\u001b[38;5;241m=\u001b[39m\u001b[38;5;124m'\u001b[39m\u001b[38;5;130;01m\\t\u001b[39;00m\u001b[38;5;124m'\u001b[39m)\n",
      "File \u001b[1;32mH:\\anaconda3\\lib\\site-packages\\pandas\\core\\frame.py:664\u001b[0m, in \u001b[0;36mDataFrame.__init__\u001b[1;34m(self, data, index, columns, dtype, copy)\u001b[0m\n\u001b[0;32m    658\u001b[0m     mgr \u001b[38;5;241m=\u001b[39m \u001b[38;5;28mself\u001b[39m\u001b[38;5;241m.\u001b[39m_init_mgr(\n\u001b[0;32m    659\u001b[0m         data, axes\u001b[38;5;241m=\u001b[39m{\u001b[38;5;124m\"\u001b[39m\u001b[38;5;124mindex\u001b[39m\u001b[38;5;124m\"\u001b[39m: index, \u001b[38;5;124m\"\u001b[39m\u001b[38;5;124mcolumns\u001b[39m\u001b[38;5;124m\"\u001b[39m: columns}, dtype\u001b[38;5;241m=\u001b[39mdtype, copy\u001b[38;5;241m=\u001b[39mcopy\n\u001b[0;32m    660\u001b[0m     )\n\u001b[0;32m    662\u001b[0m \u001b[38;5;28;01melif\u001b[39;00m \u001b[38;5;28misinstance\u001b[39m(data, \u001b[38;5;28mdict\u001b[39m):\n\u001b[0;32m    663\u001b[0m     \u001b[38;5;66;03m# GH#38939 de facto copy defaults to False only in non-dict cases\u001b[39;00m\n\u001b[1;32m--> 664\u001b[0m     mgr \u001b[38;5;241m=\u001b[39m \u001b[43mdict_to_mgr\u001b[49m\u001b[43m(\u001b[49m\u001b[43mdata\u001b[49m\u001b[43m,\u001b[49m\u001b[43m \u001b[49m\u001b[43mindex\u001b[49m\u001b[43m,\u001b[49m\u001b[43m \u001b[49m\u001b[43mcolumns\u001b[49m\u001b[43m,\u001b[49m\u001b[43m \u001b[49m\u001b[43mdtype\u001b[49m\u001b[38;5;241;43m=\u001b[39;49m\u001b[43mdtype\u001b[49m\u001b[43m,\u001b[49m\u001b[43m \u001b[49m\u001b[43mcopy\u001b[49m\u001b[38;5;241;43m=\u001b[39;49m\u001b[43mcopy\u001b[49m\u001b[43m,\u001b[49m\u001b[43m \u001b[49m\u001b[43mtyp\u001b[49m\u001b[38;5;241;43m=\u001b[39;49m\u001b[43mmanager\u001b[49m\u001b[43m)\u001b[49m\n\u001b[0;32m    665\u001b[0m \u001b[38;5;28;01melif\u001b[39;00m \u001b[38;5;28misinstance\u001b[39m(data, ma\u001b[38;5;241m.\u001b[39mMaskedArray):\n\u001b[0;32m    666\u001b[0m     \u001b[38;5;28;01mimport\u001b[39;00m \u001b[38;5;21;01mnumpy\u001b[39;00m\u001b[38;5;21;01m.\u001b[39;00m\u001b[38;5;21;01mma\u001b[39;00m\u001b[38;5;21;01m.\u001b[39;00m\u001b[38;5;21;01mmrecords\u001b[39;00m \u001b[38;5;28;01mas\u001b[39;00m \u001b[38;5;21;01mmrecords\u001b[39;00m\n",
      "File \u001b[1;32mH:\\anaconda3\\lib\\site-packages\\pandas\\core\\internals\\construction.py:493\u001b[0m, in \u001b[0;36mdict_to_mgr\u001b[1;34m(data, index, columns, dtype, typ, copy)\u001b[0m\n\u001b[0;32m    489\u001b[0m     \u001b[38;5;28;01melse\u001b[39;00m:\n\u001b[0;32m    490\u001b[0m         \u001b[38;5;66;03m# dtype check to exclude e.g. range objects, scalars\u001b[39;00m\n\u001b[0;32m    491\u001b[0m         arrays \u001b[38;5;241m=\u001b[39m [x\u001b[38;5;241m.\u001b[39mcopy() \u001b[38;5;28;01mif\u001b[39;00m \u001b[38;5;28mhasattr\u001b[39m(x, \u001b[38;5;124m\"\u001b[39m\u001b[38;5;124mdtype\u001b[39m\u001b[38;5;124m\"\u001b[39m) \u001b[38;5;28;01melse\u001b[39;00m x \u001b[38;5;28;01mfor\u001b[39;00m x \u001b[38;5;129;01min\u001b[39;00m arrays]\n\u001b[1;32m--> 493\u001b[0m \u001b[38;5;28;01mreturn\u001b[39;00m \u001b[43marrays_to_mgr\u001b[49m\u001b[43m(\u001b[49m\u001b[43marrays\u001b[49m\u001b[43m,\u001b[49m\u001b[43m \u001b[49m\u001b[43mcolumns\u001b[49m\u001b[43m,\u001b[49m\u001b[43m \u001b[49m\u001b[43mindex\u001b[49m\u001b[43m,\u001b[49m\u001b[43m \u001b[49m\u001b[43mdtype\u001b[49m\u001b[38;5;241;43m=\u001b[39;49m\u001b[43mdtype\u001b[49m\u001b[43m,\u001b[49m\u001b[43m \u001b[49m\u001b[43mtyp\u001b[49m\u001b[38;5;241;43m=\u001b[39;49m\u001b[43mtyp\u001b[49m\u001b[43m,\u001b[49m\u001b[43m \u001b[49m\u001b[43mconsolidate\u001b[49m\u001b[38;5;241;43m=\u001b[39;49m\u001b[43mcopy\u001b[49m\u001b[43m)\u001b[49m\n",
      "File \u001b[1;32mH:\\anaconda3\\lib\\site-packages\\pandas\\core\\internals\\construction.py:118\u001b[0m, in \u001b[0;36marrays_to_mgr\u001b[1;34m(arrays, columns, index, dtype, verify_integrity, typ, consolidate)\u001b[0m\n\u001b[0;32m    115\u001b[0m \u001b[38;5;28;01mif\u001b[39;00m verify_integrity:\n\u001b[0;32m    116\u001b[0m     \u001b[38;5;66;03m# figure out the index, if necessary\u001b[39;00m\n\u001b[0;32m    117\u001b[0m     \u001b[38;5;28;01mif\u001b[39;00m index \u001b[38;5;129;01mis\u001b[39;00m \u001b[38;5;28;01mNone\u001b[39;00m:\n\u001b[1;32m--> 118\u001b[0m         index \u001b[38;5;241m=\u001b[39m \u001b[43m_extract_index\u001b[49m\u001b[43m(\u001b[49m\u001b[43marrays\u001b[49m\u001b[43m)\u001b[49m\n\u001b[0;32m    119\u001b[0m     \u001b[38;5;28;01melse\u001b[39;00m:\n\u001b[0;32m    120\u001b[0m         index \u001b[38;5;241m=\u001b[39m ensure_index(index)\n",
      "File \u001b[1;32mH:\\anaconda3\\lib\\site-packages\\pandas\\core\\internals\\construction.py:656\u001b[0m, in \u001b[0;36m_extract_index\u001b[1;34m(data)\u001b[0m\n\u001b[0;32m    653\u001b[0m         \u001b[38;5;28;01mraise\u001b[39;00m \u001b[38;5;167;01mValueError\u001b[39;00m(\u001b[38;5;124m\"\u001b[39m\u001b[38;5;124mPer-column arrays must each be 1-dimensional\u001b[39m\u001b[38;5;124m\"\u001b[39m)\n\u001b[0;32m    655\u001b[0m \u001b[38;5;28;01mif\u001b[39;00m \u001b[38;5;129;01mnot\u001b[39;00m indexes \u001b[38;5;129;01mand\u001b[39;00m \u001b[38;5;129;01mnot\u001b[39;00m raw_lengths:\n\u001b[1;32m--> 656\u001b[0m     \u001b[38;5;28;01mraise\u001b[39;00m \u001b[38;5;167;01mValueError\u001b[39;00m(\u001b[38;5;124m\"\u001b[39m\u001b[38;5;124mIf using all scalar values, you must pass an index\u001b[39m\u001b[38;5;124m\"\u001b[39m)\n\u001b[0;32m    658\u001b[0m \u001b[38;5;28;01melif\u001b[39;00m have_series:\n\u001b[0;32m    659\u001b[0m     index \u001b[38;5;241m=\u001b[39m union_indexes(indexes)\n",
      "\u001b[1;31mValueError\u001b[0m: If using all scalar values, you must pass an index"
     ]
    }
   ],
   "source": [
    "reg_expressions = {} #mandatory features of items\n",
    "# reg_expressions['item_cost'] = r'\\)\\n\\ (.*?) \\n'\n",
    "reg_expressions['item_cost'] = r'\\n\\$\\d+\\.\\d+\\n'#r'\\n$\\d+\\.\\d+\\n'\n",
    "reg_expressions['item_cost_description'] = r'\\d+ x \\$\\d+\\.\\d+'\n",
    "reg_expressions['item_name'] = r'^[A-Z,\\s,a-z].*'\n",
    "\n",
    "optional_reg_expressions = {} #optional fratures of items\n",
    "optional_reg_expressions['item_quantity'] = r'\\((.*?)\\)'\n",
    "for dicts in [reg_expressions, optional_reg_expressions]:\n",
    "    for key, value in dicts.items():\n",
    "        dicts[key] = re.compile(value)\n",
    "\n",
    "string = 'Simply Nature Organic Vegetable Broth\\n(32 oz)\\n$2.09\\n1 x $2.09'\n",
    "\n",
    "Items = pd.DataFrame(columns=['item_name', 'item_cost', 'item_cost_description', 'item_quantity'])\n",
    "status = [0]*len(reg_expressions.keys())\n",
    "new_item = {}\n",
    "for ind, (key, value) in enumerate(reg_expressions.items()):\n",
    "        match = value.findall(string)\n",
    "        if match:\n",
    "            status[ind] = 1\n",
    "            new_item[key] = re.sub(r'\\n','', match[0])\n",
    "            # print(key, new_item[key])\n",
    "if sum(status) == len(reg_expressions.keys()): #have successfully identified the item line\n",
    "    for ind, (key, value) in enumerate(optional_reg_expressions.items()):\n",
    "        match = value.findall(string)\n",
    "        if match:\n",
    "            new_item[key] = re.sub(r'\\n','', match[0])\n",
    "            # print(key, new_item[key])\n",
    "        else:\n",
    "            new_item[key] = ''\n",
    "print(new_item)\n",
    "Items = pd.concat([Items, pd.DataFrame(new_item)])\n",
    "Items.to_csv('Items.txt', sep='\\t')"
   ]
  },
  {
   "cell_type": "code",
   "execution_count": 65,
   "id": "59bf50d6-bcc2-41e4-8b8c-ec3ce4a3171a",
   "metadata": {},
   "outputs": [
    {
     "name": "stdout",
     "output_type": "stream",
     "text": [
      "dict_keys(['item_cost', 'item_description', 'item_name'])\n",
      "dict_keys(['item_quantity'])\n"
     ]
    }
   ],
   "source": [
    "print(reg_expressions.keys())\n",
    "print(optional_reg_expressions.keys())"
   ]
  },
  {
   "cell_type": "code",
   "execution_count": 41,
   "id": "43586fba-10fd-43d6-8ad7-aa00a1b026d8",
   "metadata": {},
   "outputs": [
    {
     "name": "stdout",
     "output_type": "stream",
     "text": [
      "[['C A N N E D G O O D S'], ['Simply Nature Organic Low Sodium Chicken Broth\\n(32 oz)\\n$2.09\\n1 x $2.09'], ['Deutsche Küche Hearty Pea Soup\\n(28 oz)\\n$3.09\\n1 x $3.09'], ['Simply Nature Organic Vegetable Broth\\n(32 oz)\\n$2.09\\n1 x $2.09'], ['D A I R Y & E G G S'], ['Friendly Farms Nonfat Blueberry on the Bottom Greek Yogurt\\n(5.3\\n$3.25\\noz)\\n5 x $0.65'], ['Friendly Farms Whole Milk\\n(0.5 gal)\\n$1.95\\n1 x $1.95'], ['Friendly Farms Whole Milk\\n(1 gal)\\n$3.25\\n1 x $3.25'], ['M E AT & S E A F O O D'], ['Kirkwood Fresh Boneless Skinless Chicken Thighs\\n(~ 1.82 lb)\\n$5.86\\n1.78 lb x $3.29'], ['P R O D U C E'], ['Avocado\\n(each)\\n$2.20\\n4 x $0.55'], ['Roma Tomato Package\\n(1 lb)\\n$5.16\\n4 x $1.29'], ['Strawberries, Package\\n(1 lb)\\n$3.29\\n1 x $3.29'], ['Bananas\\n(~ 0.42 lb)\\n$1.61\\n3.09 lb x $0.52'], ['Cilantro\\n(1 ct)\\n$1.70\\n2 x $0.85'], ['Yellow Potato Bag\\n(each)\\n$4.39\\n1 x $4.39'], ['Red Onion Bag\\n(2 lb bag)\\n$2.99\\n1 x $2.99'], ['']]\n"
     ]
    }
   ],
   "source": [
    "table = tables[-1]\n",
    "print(table)\n",
    "# with pdfplumber.open('receipt.pdf') as pdf:\n",
    "#     for page in pdf.pages:\n",
    "#         text = page.extract_text()\n",
    "#         print(text)"
   ]
  },
  {
   "cell_type": "code",
   "execution_count": 48,
   "id": "310869ec-8007-40d3-a226-d1115e9f336e",
   "metadata": {},
   "outputs": [
    {
     "name": "stdout",
     "output_type": "stream",
     "text": [
      "['\\n$2.09\\n']\n",
      "['\\n1 x $2.09']\n",
      "Simply Nature Organic Low Sodium Chicken Broth\n",
      "(32 oz)\n",
      "$2.09\n",
      "1 x $2.09\n",
      "['\\n$3.09\\n']\n",
      "['\\n1 x $3.09']\n",
      "Deutsche Küche Hearty Pea Soup\n",
      "(28 oz)\n",
      "$3.09\n",
      "1 x $3.09\n",
      "['\\n$2.09\\n']\n",
      "['\\n1 x $2.09']\n",
      "Simply Nature Organic Vegetable Broth\n",
      "(32 oz)\n",
      "$2.09\n",
      "1 x $2.09\n",
      "['\\n$3.25\\n']\n",
      "['\\n5 x $0.65']\n",
      "Friendly Farms Nonfat Blueberry on the Bottom Greek Yogurt\n",
      "(5.3\n",
      "$3.25\n",
      "oz)\n",
      "5 x $0.65\n",
      "['\\n$1.95\\n']\n",
      "['\\n1 x $1.95']\n",
      "Friendly Farms Whole Milk\n",
      "(0.5 gal)\n",
      "$1.95\n",
      "1 x $1.95\n",
      "['\\n$3.25\\n']\n",
      "['\\n1 x $3.25']\n",
      "Friendly Farms Whole Milk\n",
      "(1 gal)\n",
      "$3.25\n",
      "1 x $3.25\n",
      "['\\n$5.86\\n']\n",
      "['\\n$2.20\\n']\n",
      "['\\n4 x $0.55']\n",
      "Avocado\n",
      "(each)\n",
      "$2.20\n",
      "4 x $0.55\n",
      "['\\n$5.16\\n']\n",
      "['\\n4 x $1.29']\n",
      "Roma Tomato Package\n",
      "(1 lb)\n",
      "$5.16\n",
      "4 x $1.29\n",
      "['\\n$3.29\\n']\n",
      "['\\n1 x $3.29']\n",
      "Strawberries, Package\n",
      "(1 lb)\n",
      "$3.29\n",
      "1 x $3.29\n",
      "['\\n$1.61\\n']\n",
      "['\\n$1.70\\n']\n",
      "['\\n2 x $0.85']\n",
      "Cilantro\n",
      "(1 ct)\n",
      "$1.70\n",
      "2 x $0.85\n",
      "['\\n$4.39\\n']\n",
      "['\\n1 x $4.39']\n",
      "Yellow Potato Bag\n",
      "(each)\n",
      "$4.39\n",
      "1 x $4.39\n",
      "['\\n$2.99\\n']\n",
      "['\\n1 x $2.99']\n",
      "Red Onion Bag\n",
      "(2 lb bag)\n",
      "$2.99\n",
      "1 x $2.99\n"
     ]
    }
   ],
   "source": [
    "for [line] in table:\n",
    "    status = [0]*len(reg_expressions.keys())\n",
    "    for ind, (key, value) in enumerate(reg_expressions.items()):\n",
    "        match = value.findall(line)\n",
    "        if match:\n",
    "            status[ind] = 1\n",
    "            print(match)\n",
    "    if sum(status) == len(reg_expressions.keys()): #have successfully identified the item line\n",
    "        print(line)"
   ]
  },
  {
   "cell_type": "code",
   "execution_count": null,
   "id": "ddbaf91c-9eb6-45ec-aee8-8ce4ae14c490",
   "metadata": {},
   "outputs": [],
   "source": []
  }
 ],
 "metadata": {
  "kernelspec": {
   "display_name": "Python 3 (ipykernel)",
   "language": "python",
   "name": "python3"
  },
  "language_info": {
   "codemirror_mode": {
    "name": "ipython",
    "version": 3
   },
   "file_extension": ".py",
   "mimetype": "text/x-python",
   "name": "python",
   "nbconvert_exporter": "python",
   "pygments_lexer": "ipython3",
   "version": "3.10.9"
  }
 },
 "nbformat": 4,
 "nbformat_minor": 5
}
