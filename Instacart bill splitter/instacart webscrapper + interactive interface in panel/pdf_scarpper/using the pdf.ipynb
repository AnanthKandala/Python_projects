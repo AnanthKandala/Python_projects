{
 "cells": [
  {
   "cell_type": "code",
   "execution_count": 120,
   "id": "c0a683e8-ef06-46e1-94e6-c789c23d8335",
   "metadata": {},
   "outputs": [],
   "source": [
    "import pdfplumber\n",
    "import re\n",
    "import pandas as pd\n",
    "import numpy as np"
   ]
  },
  {
   "cell_type": "code",
   "execution_count": 27,
   "id": "cd1f63e1-1ae2-42c0-ad08-1a4b3dcfd0db",
   "metadata": {
    "tags": []
   },
   "outputs": [
    {
     "name": "stdout",
     "output_type": "stream",
     "text": [
      "[['', ''], [None, ''], ['Olivia delivered your order\\nYour order from ALDI was placed on February 2nd, 2023 and delivered on February 2nd,\\n2023 at 6:50 PM\\nItems Found Adjustment\\n14 1\\nA D J U S T M E N T S ( A L D I ) 1\\nN O T C H A R G E D\\nFriendly Farms Nonfat Black Cherry on the Bottom Greek Yogurt\\n$0.00\\n(5.3 oz)\\nRefunded 5\\nI T E M S F O U N D ( A L D I )\\n1 4\\nC A N N E D G O O D S\\nSimply Nature Organic Low Sodium Chicken Broth\\n(32 oz)\\n$2.09\\n1 x $2.09\\nDeutsche Küche Hearty Pea Soup\\n(28 oz)\\n$3.09\\n1 x $3.09\\nSimply Nature Organic Vegetable Broth\\n(32 oz)\\n$2.09\\n1 x $2.09\\nD A I R Y & E G G S\\nFriendly Farms Nonfat Blueberry on the Bottom Greek Yogurt\\n(5.3\\n$3.25\\noz)\\n5 x $0.65\\nFriendly Farms Whole Milk\\n(0.5 gal)\\n$1.95\\n1 x $1.95\\nFriendly Farms Whole Milk\\n(1 gal)\\n$3.25\\n1 x $3.25\\nM E AT & S E A F O O D\\nKirkwood Fresh Boneless Skinless Chicken Thighs\\n(~ 1.82 lb)\\n$5.86\\n1.78 lb x $3.29\\nP R O D U C E\\nAvocado\\n(each)\\n$2.20\\n4 x $0.55\\nRoma Tomato Package\\n(1 lb)\\n$5.16\\n4 x $1.29\\nStrawberries, Package\\n(1 lb)\\n$3.29\\n1 x $3.29\\nBananas\\n(~ 0.42 lb)\\n$1.61\\n3.09 lb x $0.52\\nCilantro\\n(1 ct)\\n$1.70\\n2 x $0.85\\nYellow Potato Bag\\n(each)\\n$4.39\\n1 x $4.39\\nRed Onion Bag\\n(2 lb bag)\\n$2.99\\n1 x $2.99\\nORDER TOTALS\\nItems Subtotal $42.92\\nCheckout Bag Fee $0.24\\nTip $3.66\\nService Fee $3.08\\nTotal $49.90\\nInstacart+ Member Free Delivery!\\nCHARGES Discover ending in 4694\\nOriginal Charge $49.90\\nYour Discover 4694 card was temporarily authorized for $50.00. You should\\nsee the hold removed and a final charge reflected on your statement within 7\\nbusiness days of order completion depending on your bank’s policies.\\nLearn more\\nTotal Charged $49.90\\nRate your order\\nGet help', None], [None, ''], [None, '']]\n",
      "****************************************************************************************************\n",
      "[['N O T C H A R G E D'], ['Friendly Farms Nonfat Black Cherry on the Bottom Greek Yogurt\\n$0.00\\n(5.3 oz)\\nRefunded 5'], ['']]\n",
      "****************************************************************************************************\n",
      "[['C A N N E D G O O D S'], ['Simply Nature Organic Low Sodium Chicken Broth\\n(32 oz)\\n$2.09\\n1 x $2.09'], ['Deutsche Küche Hearty Pea Soup\\n(28 oz)\\n$3.09\\n1 x $3.09'], ['Simply Nature Organic Vegetable Broth\\n(32 oz)\\n$2.09\\n1 x $2.09'], ['D A I R Y & E G G S'], ['Friendly Farms Nonfat Blueberry on the Bottom Greek Yogurt\\n(5.3\\n$3.25\\noz)\\n5 x $0.65'], ['Friendly Farms Whole Milk\\n(0.5 gal)\\n$1.95\\n1 x $1.95'], ['Friendly Farms Whole Milk\\n(1 gal)\\n$3.25\\n1 x $3.25'], ['M E AT & S E A F O O D'], ['Kirkwood Fresh Boneless Skinless Chicken Thighs\\n(~ 1.82 lb)\\n$5.86\\n1.78 lb x $3.29'], ['P R O D U C E'], ['Avocado\\n(each)\\n$2.20\\n4 x $0.55'], ['Roma Tomato Package\\n(1 lb)\\n$5.16\\n4 x $1.29'], ['Strawberries, Package\\n(1 lb)\\n$3.29\\n1 x $3.29'], ['Bananas\\n(~ 0.42 lb)\\n$1.61\\n3.09 lb x $0.52'], ['Cilantro\\n(1 ct)\\n$1.70\\n2 x $0.85'], ['Yellow Potato Bag\\n(each)\\n$4.39\\n1 x $4.39'], ['Red Onion Bag\\n(2 lb bag)\\n$2.99\\n1 x $2.99'], ['']]\n",
      "****************************************************************************************************\n"
     ]
    }
   ],
   "source": [
    "with pdfplumber.open('receipt.pdf') as pdf:\n",
    "    # iterate over each page\n",
    "    page = pdf.pages[0]\n",
    "    tables = page.extract_tables()\n",
    "    for table in tables:\n",
    "        print(table)\n",
    "        print('*'*100)\n"
   ]
  },
  {
   "cell_type": "code",
   "execution_count": 105,
   "id": "d73e60a6-3422-4e47-8922-25f171183eff",
   "metadata": {},
   "outputs": [
    {
     "name": "stdout",
     "output_type": "stream",
     "text": [
      "item_cost $2.09\n",
      "item_cost_description 1 x $2.09\n",
      "item_name Simply Nature Organic Vegetable Broth\n",
      "item_quantity 32 oz\n",
      "{'item_cost': ['$2.09'], 'item_cost_description': ['1 x $2.09'], 'item_name': ['Simply Nature Organic Vegetable Broth'], 'item_quantity': ['32 oz']}\n"
     ]
    }
   ],
   "source": [
    "reg_expressions = {} #mandatory features of items\n",
    "# reg_expressions['item_cost'] = r'\\)\\n\\ (.*?) \\n'\n",
    "reg_expressions['item_cost'] = r'\\n\\$\\d+\\.\\d+\\n'#r'\\n$\\d+\\.\\d+\\n'\n",
    "reg_expressions['item_cost_description'] = r'\\d+ x \\$\\d+\\.\\d+'\n",
    "reg_expressions['item_name'] = r'^[A-Z,\\s,a-z].*'\n",
    "\n",
    "optional_reg_expressions = {} #optional fratures of items\n",
    "optional_reg_expressions['item_quantity'] = r'\\((.*?)\\)'\n",
    "for dicts in [reg_expressions, optional_reg_expressions]:\n",
    "    for key, value in dicts.items():\n",
    "        dicts[key] = re.compile(value)\n",
    "\n",
    "string = 'Simply Nature Organic Vegetable Broth\\n(32 oz)\\n$2.09\\n1 x $2.09'\n",
    "\n",
    "Items = {}\n",
    "all_keys = list(reg_expressions.keys()) + list(optional_reg_expressions.keys())\n",
    "for key in all_keys:\n",
    "    Items[key] = []\n",
    "status = [0]*len(reg_expressions.keys())\n",
    "new_item = {}\n",
    "for ind, (key, value) in enumerate(reg_expressions.items()):\n",
    "        match = value.findall(string)\n",
    "        if match:\n",
    "            status[ind] = 1\n",
    "            new_item[key] = re.sub(r'\\n','', match[0])\n",
    "            # print(key, new_item[key])\n",
    "if sum(status) == len(reg_expressions.keys()): #have successfully identified the item line\n",
    "    for ind, (key, value) in enumerate(optional_reg_expressions.items()):\n",
    "        match = value.findall(string)\n",
    "        if match:\n",
    "            new_item[key] = re.sub(r'\\n','', match[0])\n",
    "            # print(key, new_item[key])\n",
    "        else:\n",
    "            new_item[key] = ''\n",
    "    for key in all_keys:\n",
    "        print(key, new_item[key])\n",
    "        Items[key].append(new_item[key])\n",
    "\n",
    "Items = pd.DataFrame(Items)\n",
    "Items.to_csv('Items.txt', sep='\\t')"
   ]
  },
  {
   "cell_type": "code",
   "execution_count": 65,
   "id": "59bf50d6-bcc2-41e4-8b8c-ec3ce4a3171a",
   "metadata": {},
   "outputs": [
    {
     "name": "stdout",
     "output_type": "stream",
     "text": [
      "dict_keys(['item_cost', 'item_description', 'item_name'])\n",
      "dict_keys(['item_quantity'])\n"
     ]
    }
   ],
   "source": [
    "print(reg_expressions.keys())\n",
    "print(optional_reg_expressions.keys())"
   ]
  },
  {
   "cell_type": "code",
   "execution_count": 110,
   "id": "43586fba-10fd-43d6-8ad7-aa00a1b026d8",
   "metadata": {},
   "outputs": [
    {
     "name": "stdout",
     "output_type": "stream",
     "text": [
      "[['C A N N E D G O O D S'], ['Simply Nature Organic Low Sodium Chicken Broth\\n(32 oz)\\n$2.09\\n1 x $2.09'], ['Deutsche Küche Hearty Pea Soup\\n(28 oz)\\n$3.09\\n1 x $3.09'], ['Simply Nature Organic Vegetable Broth\\n(32 oz)\\n$2.09\\n1 x $2.09'], ['D A I R Y & E G G S'], ['Friendly Farms Nonfat Blueberry on the Bottom Greek Yogurt\\n(5.3\\n$3.25\\noz)\\n5 x $0.65'], ['Friendly Farms Whole Milk\\n(0.5 gal)\\n$1.95\\n1 x $1.95'], ['Friendly Farms Whole Milk\\n(1 gal)\\n$3.25\\n1 x $3.25'], ['M E AT & S E A F O O D'], ['Kirkwood Fresh Boneless Skinless Chicken Thighs\\n(~ 1.82 lb)\\n$5.86\\n1.78 lb x $3.29'], ['P R O D U C E'], ['Avocado\\n(each)\\n$2.20\\n4 x $0.55'], ['Roma Tomato Package\\n(1 lb)\\n$5.16\\n4 x $1.29'], ['Strawberries, Package\\n(1 lb)\\n$3.29\\n1 x $3.29'], ['Bananas\\n(~ 0.42 lb)\\n$1.61\\n3.09 lb x $0.52'], ['Cilantro\\n(1 ct)\\n$1.70\\n2 x $0.85'], ['Yellow Potato Bag\\n(each)\\n$4.39\\n1 x $4.39'], ['Red Onion Bag\\n(2 lb bag)\\n$2.99\\n1 x $2.99'], ['']]\n"
     ]
    }
   ],
   "source": [
    "table = tables[-1]\n",
    "print(table)\n",
    "# with pdfplumber.open('receipt.pdf') as pdf:\n",
    "#     for page in pdf.pages:\n",
    "#         text = page.extract_text()\n",
    "#         print(text)"
   ]
  },
  {
   "cell_type": "code",
   "execution_count": 129,
   "id": "310869ec-8007-40d3-a226-d1115e9f336e",
   "metadata": {
    "tags": []
   },
   "outputs": [
    {
     "data": {
      "text/html": [
       "<div>\n",
       "<style scoped>\n",
       "    .dataframe tbody tr th:only-of-type {\n",
       "        vertical-align: middle;\n",
       "    }\n",
       "\n",
       "    .dataframe tbody tr th {\n",
       "        vertical-align: top;\n",
       "    }\n",
       "\n",
       "    .dataframe thead th {\n",
       "        text-align: right;\n",
       "    }\n",
       "</style>\n",
       "<table border=\"1\" class=\"dataframe\">\n",
       "  <thead>\n",
       "    <tr style=\"text-align: right;\">\n",
       "      <th></th>\n",
       "      <th>item_cost_description</th>\n",
       "      <th>item_quantity</th>\n",
       "      <th>item_name</th>\n",
       "      <th>item_cost</th>\n",
       "    </tr>\n",
       "  </thead>\n",
       "  <tbody>\n",
       "    <tr>\n",
       "      <th>0</th>\n",
       "      <td>1 x $2.09</td>\n",
       "      <td>32 oz</td>\n",
       "      <td>Simply Nature Organic Low Sodium Chicken Broth</td>\n",
       "      <td>2.09</td>\n",
       "    </tr>\n",
       "    <tr>\n",
       "      <th>1</th>\n",
       "      <td>1 x $3.09</td>\n",
       "      <td>28 oz</td>\n",
       "      <td>Deutsche Küche Hearty Pea Soup</td>\n",
       "      <td>3.09</td>\n",
       "    </tr>\n",
       "    <tr>\n",
       "      <th>2</th>\n",
       "      <td>1 x $2.09</td>\n",
       "      <td>32 oz</td>\n",
       "      <td>Simply Nature Organic Vegetable Broth</td>\n",
       "      <td>2.09</td>\n",
       "    </tr>\n",
       "    <tr>\n",
       "      <th>3</th>\n",
       "      <td>5 x $0.65</td>\n",
       "      <td></td>\n",
       "      <td>Friendly Farms Nonfat Blueberry on the Bottom ...</td>\n",
       "      <td>3.25</td>\n",
       "    </tr>\n",
       "    <tr>\n",
       "      <th>4</th>\n",
       "      <td>1 x $1.95</td>\n",
       "      <td>0.5 gal</td>\n",
       "      <td>Friendly Farms Whole Milk</td>\n",
       "      <td>1.95</td>\n",
       "    </tr>\n",
       "  </tbody>\n",
       "</table>\n",
       "</div>"
      ],
      "text/plain": [
       "  item_cost_description item_quantity  \\\n",
       "0             1 x $2.09         32 oz   \n",
       "1             1 x $3.09         28 oz   \n",
       "2             1 x $2.09         32 oz   \n",
       "3             5 x $0.65                 \n",
       "4             1 x $1.95       0.5 gal   \n",
       "\n",
       "                                           item_name  item_cost  \n",
       "0     Simply Nature Organic Low Sodium Chicken Broth       2.09  \n",
       "1                     Deutsche Küche Hearty Pea Soup       3.09  \n",
       "2              Simply Nature Organic Vegetable Broth       2.09  \n",
       "3  Friendly Farms Nonfat Blueberry on the Bottom ...       3.25  \n",
       "4                          Friendly Farms Whole Milk       1.95  "
      ]
     },
     "execution_count": 129,
     "metadata": {},
     "output_type": "execute_result"
    }
   ],
   "source": [
    "def read_pdf(infile):    \n",
    "    #intializing features\n",
    "    reg_expressions = {} #mandatory features of items\n",
    "    # reg_expressions['item_cost'] = r'\\)\\n\\ (.*?) \\n'\n",
    "    reg_expressions['item_cost'] = r'\\n\\$\\d+\\.\\d+\\n'#r'\\n$\\d+\\.\\d+\\n'\n",
    "    reg_expressions['item_cost_description'] = r'\\d+ x \\$\\d+\\.\\d+'\n",
    "    reg_expressions['item_name'] = r'^[A-Z,\\s,a-z].*'\n",
    "\n",
    "    optional_reg_expressions = {} #optional fratures of items\n",
    "    optional_reg_expressions['item_quantity'] = r'\\((.*?)\\)'\n",
    "    for dicts in [reg_expressions, optional_reg_expressions]:\n",
    "        for key, value in dicts.items():\n",
    "            dicts[key] = re.compile(value)\n",
    "\n",
    "    Items = {}\n",
    "    all_keys = list(reg_expressions.keys()) + list(optional_reg_expressions.keys())\n",
    "    for key in all_keys:\n",
    "            Items[key] = []\n",
    "\n",
    "            \n",
    "    # reading the pdf        \n",
    "    with pdfplumber.open(infile) as pdf:\n",
    "    # iterate over each page\n",
    "        for page in pdf.pages:\n",
    "            tables = page.extract_tables()\n",
    "            for table in tables[1:]:\n",
    "                for [string] in table:    \n",
    "                    status = [0]*len(reg_expressions.keys())\n",
    "                    new_item = {}\n",
    "                    for ind, (key, value) in enumerate(reg_expressions.items()):\n",
    "                            match = value.findall(string)\n",
    "                            if match:\n",
    "                                status[ind] = 1\n",
    "                                new_item[key] = re.sub(r'\\n','', match[0])\n",
    "                                # print(key, new_item[key])\n",
    "                    if sum(status) == len(reg_expressions.keys()): #have successfully identified the item line\n",
    "                        for ind, (key, value) in enumerate(optional_reg_expressions.items()):\n",
    "                            match = value.findall(string)\n",
    "                            if match:\n",
    "                                new_item[key] = re.sub(r'\\n','', match[0])\n",
    "                                # print(key, new_item[key])\n",
    "                            else:\n",
    "                                new_item[key] = ''\n",
    "                        for key in all_keys:\n",
    "                            Items[key].append(new_item[key])\n",
    "\n",
    "    Items = pd.DataFrame(Items)\n",
    "    Items = Items[['item_cost_description', 'item_quantity', 'item_name', 'item_cost']]\n",
    "    Items['item_cost'] = Items['item_cost'].map(lambda x:float(x.replace('$','')))\n",
    "    return Items\n",
    "    \n",
    "infile = 'receipt.pdf'\n",
    "Items = read_pdf(infile)  \n",
    "Items.to_csv('Items.txt', sep='\\t')\n",
    "Items.head()"
   ]
  },
  {
   "cell_type": "code",
   "execution_count": 127,
   "id": "c16934df-cd94-48e9-92cb-bb6a3f228689",
   "metadata": {},
   "outputs": [
    {
     "data": {
      "text/plain": [
       "Index(['item_cost', 'item_cost_description', 'item_name', 'item_quantity'], dtype='object')"
      ]
     },
     "execution_count": 127,
     "metadata": {},
     "output_type": "execute_result"
    }
   ],
   "source": [
    "Items.keys()"
   ]
  },
  {
   "cell_type": "code",
   "execution_count": null,
   "id": "e6bceafa-505d-402f-9c59-39b66760a9df",
   "metadata": {},
   "outputs": [],
   "source": []
  }
 ],
 "metadata": {
  "kernelspec": {
   "display_name": "Python 3 (ipykernel)",
   "language": "python",
   "name": "python3"
  },
  "language_info": {
   "codemirror_mode": {
    "name": "ipython",
    "version": 3
   },
   "file_extension": ".py",
   "mimetype": "text/x-python",
   "name": "python",
   "nbconvert_exporter": "python",
   "pygments_lexer": "ipython3",
   "version": "3.11.3"
  }
 },
 "nbformat": 4,
 "nbformat_minor": 5
}
