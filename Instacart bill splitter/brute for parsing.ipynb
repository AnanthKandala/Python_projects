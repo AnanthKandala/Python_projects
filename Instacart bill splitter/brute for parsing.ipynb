{
 "cells": [
  {
   "cell_type": "code",
   "execution_count": 4,
   "id": "190a3220-05fd-4e9f-8d32-89755695e574",
   "metadata": {},
   "outputs": [],
   "source": [
    "from boxdetect import config\n",
    "\n",
    "file_name = 'form_example1.png'\n",
    "\n",
    "cfg = config.PipelinesConfig()\n",
    "\n",
    "# important to adjust these values to match the size of boxes on your image\n",
    "cfg.width_range = (30,55)\n",
    "cfg.height_range = (25,40)\n",
    "\n",
    "# the more scaling factors the more accurate the results but also it takes more time to processing\n",
    "# too small scaling factor may cause false positives\n",
    "# too big scaling factor will take a lot of processing time\n",
    "cfg.scaling_factors = [0.7]\n",
    "\n",
    "# w/h ratio range for boxes/rectangles filtering\n",
    "cfg.wh_ratio_range = (0.5, 1.7)\n",
    "\n",
    "# group_size_range starting from 2 will skip all the groups\n",
    "# with a single box detected inside (like checkboxes)\n",
    "cfg.group_size_range = (2, 100)\n",
    "\n",
    "# num of iterations when running dilation tranformation (to engance the image)\n",
    "cfg.dilation_iterations = 0"
   ]
  },
  {
   "cell_type": "code",
   "execution_count": 5,
   "id": "0001c291-91e7-4c1f-a037-ccf00145b6fd",
   "metadata": {},
   "outputs": [
    {
     "name": "stdout",
     "output_type": "stream",
     "text": [
      "Processing file:  receipt.pdf\n"
     ]
    },
    {
     "ename": "AttributeError",
     "evalue": "'NoneType' object has no attribute 'ndim'",
     "output_type": "error",
     "traceback": [
      "\u001b[1;31m---------------------------------------------------------------------------\u001b[0m",
      "\u001b[1;31mAttributeError\u001b[0m                            Traceback (most recent call last)",
      "Cell \u001b[1;32mIn[5], line 3\u001b[0m\n\u001b[0;32m      1\u001b[0m \u001b[38;5;28;01mfrom\u001b[39;00m \u001b[38;5;21;01mboxdetect\u001b[39;00m\u001b[38;5;21;01m.\u001b[39;00m\u001b[38;5;21;01mpipelines\u001b[39;00m \u001b[38;5;28;01mimport\u001b[39;00m get_boxes\n\u001b[0;32m      2\u001b[0m file_name \u001b[38;5;241m=\u001b[39m \u001b[38;5;124m'\u001b[39m\u001b[38;5;124mreceipt.pdf\u001b[39m\u001b[38;5;124m'\u001b[39m\n\u001b[1;32m----> 3\u001b[0m rects, grouping_rects, image, output_image \u001b[38;5;241m=\u001b[39m \u001b[43mget_boxes\u001b[49m\u001b[43m(\u001b[49m\n\u001b[0;32m      4\u001b[0m \u001b[43m    \u001b[49m\u001b[43mfile_name\u001b[49m\u001b[43m,\u001b[49m\u001b[43m \u001b[49m\u001b[43mcfg\u001b[49m\u001b[38;5;241;43m=\u001b[39;49m\u001b[43mcfg\u001b[49m\u001b[43m,\u001b[49m\u001b[43m \u001b[49m\u001b[43mplot\u001b[49m\u001b[38;5;241;43m=\u001b[39;49m\u001b[38;5;28;43;01mFalse\u001b[39;49;00m\u001b[43m)\u001b[49m\n",
      "File \u001b[1;32m~\\Anaconda3\\envs\\pdf_parser\\Lib\\site-packages\\boxdetect\\pipelines.py:142\u001b[0m, in \u001b[0;36mget_boxes\u001b[1;34m(img, cfg, plot)\u001b[0m\n\u001b[0;32m    139\u001b[0m image_org \u001b[38;5;241m=\u001b[39m img_proc\u001b[38;5;241m.\u001b[39mget_image(img)\n\u001b[0;32m    141\u001b[0m ch \u001b[38;5;241m=\u001b[39m \u001b[38;5;28;01mNone\u001b[39;00m\n\u001b[1;32m--> 142\u001b[0m \u001b[38;5;28;01mif\u001b[39;00m \u001b[43mimage_org\u001b[49m\u001b[38;5;241;43m.\u001b[39;49m\u001b[43mndim\u001b[49m \u001b[38;5;241m==\u001b[39m \u001b[38;5;241m3\u001b[39m:\n\u001b[0;32m    143\u001b[0m     ch \u001b[38;5;241m=\u001b[39m image_org\u001b[38;5;241m.\u001b[39mshape[\u001b[38;5;241m-\u001b[39m\u001b[38;5;241m1\u001b[39m]\n\u001b[0;32m    144\u001b[0m \u001b[38;5;28;01melif\u001b[39;00m image_org\u001b[38;5;241m.\u001b[39mndim \u001b[38;5;241m==\u001b[39m \u001b[38;5;241m2\u001b[39m:\n",
      "\u001b[1;31mAttributeError\u001b[0m: 'NoneType' object has no attribute 'ndim'"
     ]
    }
   ],
   "source": [
    "from boxdetect.pipelines import get_boxes\n",
    "file_name = 'receipt.pdf'\n",
    "rects, grouping_rects, image, output_image = get_boxes(\n",
    "    file_name, cfg=cfg, plot=False)"
   ]
  },
  {
   "cell_type": "code",
   "execution_count": 8,
   "id": "dc6e2f41-7d73-4208-9e11-180cdbdbc086",
   "metadata": {},
   "outputs": [],
   "source": [
    "from pdf2image import convert_from_path\n",
    "\n",
    "# Define the PDF file path\n",
    "pdf_path = 'receipt (2).pdf'\n",
    "\n",
    "# Convert the PDF to images\n",
    "images = convert_from_path(pdf_path)\n",
    "\n",
    "for i in range(len(images)):\n",
    "    # Save pages as images in png\n",
    "    images[i].save('page'+ str(i) +'.png', 'PNG')\n"
   ]
  },
  {
   "cell_type": "code",
   "execution_count": 13,
   "id": "4b4e9bac-6272-4dd6-a6bc-abbc3cd95c73",
   "metadata": {},
   "outputs": [
    {
     "data": {
      "image/png": "[encoded data removed]",
      "text/plain": [
       "<Figure size 640x480 with 1 Axes>"
      ]
     },
     "metadata": {},
     "output_type": "display_data"
    }
   ],
   "source": [
    "import matplotlib.pyplot as plt\n",
    "import cv2\n",
    "\n",
    "# Load the image\n",
    "image = cv2.imread('page0.png')\n",
    "\n",
    "# Define the region of interest (ROI)\n",
    "# The format is image[y1:y2, x1:x2]\n",
    "sub_image = image[50:500, :]  # Adjust these values based on the ROI you want\n",
    "\n",
    "# Display the sub image\n",
    "plt.imshow(cv2.cvtColor(sub_image, cv2.COLOR_BGR2RGB))\n",
    "plt.show()\n",
    "\n"
   ]
  },
  {
   "cell_type": "code",
   "execution_count": null,
   "id": "630e083d-07f0-40f0-8649-efa99721fb14",
   "metadata": {},
   "outputs": [],
   "source": []
  }
 ],
 "metadata": {
  "kernelspec": {
   "display_name": "Python 3 (ipykernel)",
   "language": "python",
   "name": "python3"
  },
  "language_info": {
   "codemirror_mode": {
    "name": "ipython",
    "version": 3
   },
   "file_extension": ".py",
   "mimetype": "text/x-python",
   "name": "python",
   "nbconvert_exporter": "python",
   "pygments_lexer": "ipython3",
   "version": "3.11.3"
  }
 },
 "nbformat": 4,
 "nbformat_minor": 5
}
