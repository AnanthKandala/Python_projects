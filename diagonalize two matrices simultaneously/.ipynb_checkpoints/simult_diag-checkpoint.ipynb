{
 "cells": [
  {
   "cell_type": "code",
   "execution_count": 1,
   "id": "6f752837-a34c-4bb2-a2e1-ffb9a9b40ed6",
   "metadata": {},
   "outputs": [],
   "source": [
    "import numpy as np"
   ]
  },
  {
   "cell_type": "code",
   "execution_count": 13,
   "id": "e82a174c-4640-4a80-9116-28c2c153fdf5",
   "metadata": {},
   "outputs": [
    {
     "ename": "IndexError",
     "evalue": "too many indices for array: array is 1-dimensional, but 2 were indexed",
     "output_type": "error",
     "traceback": [
      "\u001b[1;31m---------------------------------------------------------------------------\u001b[0m",
      "\u001b[1;31mIndexError\u001b[0m                                Traceback (most recent call last)",
      "Cell \u001b[1;32mIn[13], line 21\u001b[0m\n\u001b[0;32m     19\u001b[0m projector \u001b[38;5;241m=\u001b[39m np\u001b[38;5;241m.\u001b[39mzeros(\u001b[38;5;28mlen\u001b[39m(matrix1))\n\u001b[0;32m     20\u001b[0m \u001b[38;5;28;01mfor\u001b[39;00m v_ind \u001b[38;5;129;01min\u001b[39;00m \u001b[38;5;28mrange\u001b[39m(\u001b[38;5;28mlen\u001b[39m(subspace_basis\u001b[38;5;241m.\u001b[39mT)):\n\u001b[1;32m---> 21\u001b[0m     vector \u001b[38;5;241m=\u001b[39m \u001b[43msubspace_basis\u001b[49m\u001b[43m[\u001b[49m\u001b[43m:\u001b[49m\u001b[43m,\u001b[49m\u001b[43m \u001b[49m\u001b[43mv_ind\u001b[49m\u001b[43m]\u001b[49m\n\u001b[0;32m     22\u001b[0m     projector \u001b[38;5;241m=\u001b[39m projector \u001b[38;5;241m+\u001b[39m vector\u001b[38;5;129m@np\u001b[39m\u001b[38;5;241m.\u001b[39mconjugate(vector\u001b[38;5;241m.\u001b[39mT)\n\u001b[0;32m     23\u001b[0m \u001b[38;5;28mprint\u001b[39m(projector)\n",
      "\u001b[1;31mIndexError\u001b[0m: too many indices for array: array is 1-dimensional, but 2 were indexed"
     ]
    }
   ],
   "source": [
    "matrix1 = np.array([[0, 1], [1, 0]])\n",
    "matrix2 = 5*np.eye(2)\n",
    "commutator = np.matmul(matrix1, matrix2) - np.matmul(matrix2, matrix1)\n",
    "if np.allclose(commutator, np.zeros_like(commutator)):\n",
    "    # obtain the eigenvalues and eigen vectors of matrix 1:\n",
    "    eigenvalues_1, eigenvector_matrix1 = np.linalg.eig(matrix1)\n",
    "    # print(eigenvalues_1, eigenvector_matrix1)\n",
    "    #obtain the eigenspace for matrix1:\n",
    "    eigen_space1 = []\n",
    "    unique_entries = np.unique(eigenvalues_1)\n",
    "    # Create a dictionary to store the locations of each unique entry\n",
    "    locations = {}\n",
    "    for i, e in enumerate(unique_entries):\n",
    "        indices = np.where(eigenvalues_1 == e)[0]\n",
    "        entry_locations[i] = indices\n",
    "    for indx, e in enumerate(unique_eigenvalues):\n",
    "        eigen_space1.append((e, eigenvector_matrix1[:,indices[indx]]))\n",
    "        subspace_basis = eigenvector_matrix1[:,indices[indx]]\n",
    "        projector = np.zeros(len(matrix1))\n",
    "        for v_ind in range(len(subspace_basis.T)):\n",
    "            vector = subspace_basis[:, v_ind]\n",
    "            projector = projector + vector@np.conjugate(vector.T)\n",
    "        print(projector)\n",
    "            # projected_matrix2 = \n",
    "            \n",
    "    \n",
    "else:\n",
    "    print('matrices do not commute!')\n",
    "        "
   ]
  },
  {
   "cell_type": "code",
   "execution_count": null,
   "id": "cc204288-1fe8-43cd-bf5e-f08c20a2f38a",
   "metadata": {},
   "outputs": [],
   "source": []
  }
 ],
 "metadata": {
  "kernelspec": {
   "display_name": "Python 3 (ipykernel)",
   "language": "python",
   "name": "python3"
  },
  "language_info": {
   "codemirror_mode": {
    "name": "ipython",
    "version": 3
   },
   "file_extension": ".py",
   "mimetype": "text/x-python",
   "name": "python",
   "nbconvert_exporter": "python",
   "pygments_lexer": "ipython3",
   "version": "3.11.3"
  }
 },
 "nbformat": 4,
 "nbformat_minor": 5
}
